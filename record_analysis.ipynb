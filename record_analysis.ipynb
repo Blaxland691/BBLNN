{
 "cells": [
  {
   "cell_type": "code",
   "execution_count": 1,
   "metadata": {
    "collapsed": true
   },
   "outputs": [],
   "source": [
    "from game import Game"
   ]
  },
  {
   "cell_type": "code",
   "execution_count": 2,
   "outputs": [],
   "source": [
    "game = Game('bbl_json/524915.json')"
   ],
   "metadata": {
    "collapsed": false
   }
  },
  {
   "cell_type": "code",
   "execution_count": 3,
   "outputs": [
    {
     "data": {
      "text/plain": "'1.0.0'"
     },
     "execution_count": 3,
     "metadata": {},
     "output_type": "execute_result"
    }
   ],
   "source": [
    "game.meta.data_version"
   ],
   "metadata": {
    "collapsed": false
   }
  },
  {
   "cell_type": "code",
   "execution_count": 4,
   "outputs": [
    {
     "data": {
      "text/plain": "<game.Info at 0x106166460>"
     },
     "execution_count": 4,
     "metadata": {},
     "output_type": "execute_result"
    }
   ],
   "source": [
    "game.info"
   ],
   "metadata": {
    "collapsed": false
   }
  },
  {
   "cell_type": "code",
   "execution_count": 5,
   "outputs": [
    {
     "data": {
      "text/plain": "{'balls_per_over': 6,\n 'dates': ['2011-12-16'],\n 'event': {'name': 'Big Bash League'},\n 'gender': 'male',\n 'match_type': 'T20',\n 'officials': {'match_referees': ['PL Marshall'],\n  'tv_umpires': ['IH Lock'],\n  'umpires': ['BNJ Oxenford', 'PR Reiffel']},\n 'outcome': {'by': {'wickets': 7}, 'winner': 'Sydney Sixers'},\n 'overs': 20,\n 'player_of_match': ['BJ Haddin'],\n 'players': {'Brisbane Heat': ['BB McCullum',\n   'ML Hayden',\n   'JR Hopes',\n   'CA Lynn',\n   'DT Christian',\n   'AW Robinson',\n   'PJ Forrest',\n   'CD Hartley',\n   'ND Buchanan',\n   'NM Hauritz',\n   'AC McDermott'],\n  'Sydney Sixers': ['BJ Haddin',\n   'MJ Lumb',\n   'NJ Maddinson',\n   'SPD Smith',\n   'MC Henriques',\n   'B Lee',\n   'DJ Bravo',\n   'EJM Cowan',\n   'JR Hazlewood',\n   'MA Starc',\n   'SCG MacGill']},\n 'registry': {'people': {'AC McDermott': '956887b2',\n   'AW Robinson': '7001dee4',\n   'B Lee': 'dd09ff8e',\n   'BB McCullum': 'b8a55852',\n   'BJ Haddin': 'b0c772ee',\n   'BNJ Oxenford': 'c1add349',\n   'CA Lynn': '45eda7c8',\n   'CD Hartley': '9a06679d',\n   'DJ Bravo': '87e562a9',\n   'DT Christian': '2a2e6343',\n   'EJM Cowan': 'fee3c48a',\n   'IH Lock': 'a1b1e3c2',\n   'JR Hazlewood': '03806cf8',\n   'JR Hopes': '2498e163',\n   'MA Starc': '3fb19989',\n   'MC Henriques': '32198ae0',\n   'MJ Lumb': '11df3dc8',\n   'ML Hayden': 'd8699ab7',\n   'ND Buchanan': '9a211e08',\n   'NJ Maddinson': '44afbf2d',\n   'NM Hauritz': '8ea6e670',\n   'PJ Forrest': '56c205b7',\n   'PL Marshall': 'c1ca6df3',\n   'PR Reiffel': 'c9354f29',\n   'SCG MacGill': '60dac349',\n   'SPD Smith': '30a45b23'}},\n 'season': '2011/12',\n 'team_type': 'club',\n 'teams': ['Sydney Sixers', 'Brisbane Heat'],\n 'toss': {'decision': 'bat', 'winner': 'Brisbane Heat'},\n 'venue': 'Sydney Cricket Ground'}"
     },
     "execution_count": 5,
     "metadata": {},
     "output_type": "execute_result"
    }
   ],
   "source": [
    "game.info.__dict__"
   ],
   "metadata": {
    "collapsed": false
   }
  },
  {
   "cell_type": "code",
   "execution_count": 7,
   "outputs": [
    {
     "data": {
      "text/plain": "2"
     },
     "execution_count": 7,
     "metadata": {},
     "output_type": "execute_result"
    }
   ],
   "source": [
    "game.innings.length"
   ],
   "metadata": {
    "collapsed": false
   }
  },
  {
   "cell_type": "code",
   "execution_count": null,
   "outputs": [],
   "source": [],
   "metadata": {
    "collapsed": false
   }
  },
  {
   "cell_type": "code",
   "execution_count": null,
   "outputs": [],
   "source": [],
   "metadata": {
    "collapsed": false
   }
  }
 ],
 "metadata": {
  "kernelspec": {
   "display_name": "Python 3",
   "language": "python",
   "name": "python3"
  },
  "language_info": {
   "codemirror_mode": {
    "name": "ipython",
    "version": 2
   },
   "file_extension": ".py",
   "mimetype": "text/x-python",
   "name": "python",
   "nbconvert_exporter": "python",
   "pygments_lexer": "ipython2",
   "version": "2.7.6"
  }
 },
 "nbformat": 4,
 "nbformat_minor": 0
}
