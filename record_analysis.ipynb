{
 "cells": [
  {
   "cell_type": "markdown",
   "source": [],
   "metadata": {
    "collapsed": false,
    "pycharm": {
     "name": "#%% md\n"
    }
   }
  },
  {
   "cell_type": "code",
   "execution_count": 1,
   "metadata": {
    "collapsed": true,
    "pycharm": {
     "name": "#%%\n"
    }
   },
   "outputs": [],
   "source": [
    "from game_set import Games"
   ]
  },
  {
   "cell_type": "code",
   "execution_count": 2,
   "outputs": [
    {
     "name": "stdout",
     "output_type": "stream",
     "text": [
      "'Info' object has no attribute 'player_of_match'\n",
      "'Info' object has no attribute 'player_of_match'\n",
      "'Info' object has no attribute 'player_of_match'\n",
      "'Info' object has no attribute 'player_of_match'\n",
      "'Info' object has no attribute 'player_of_match'\n",
      "'Info' object has no attribute 'player_of_match'\n",
      "'Info' object has no attribute 'player_of_match'\n"
     ]
    }
   ],
   "source": [
    "game_set = Games('bbl_json')"
   ],
   "metadata": {
    "collapsed": false,
    "pycharm": {
     "name": "#%%\n"
    }
   }
  },
  {
   "cell_type": "code",
   "execution_count": 3,
   "outputs": [
    {
     "data": {
      "text/plain": "[False, True, True, True, False, True, True, True, True, False]"
     },
     "execution_count": 3,
     "metadata": {},
     "output_type": "execute_result"
    }
   ],
   "source": [
    "game_set.get_form(1, 10)"
   ],
   "metadata": {
    "collapsed": false,
    "pycharm": {
     "name": "#%%\n"
    }
   }
  },
  {
   "cell_type": "code",
   "execution_count": 4,
   "outputs": [
    {
     "data": {
      "text/plain": "          id        date gender            home_team          away_team  \\\n0    1023581  2016-12-20   male       Sydney Thunder      Sydney Sixers   \n1    1023583  2016-12-21   male    Adelaide Strikers      Brisbane Heat   \n2    1023585  2016-12-22   male  Melbourne Renegades     Sydney Thunder   \n3    1023587  2016-12-23   male        Sydney Sixers  Hobart Hurricanes   \n4    1023589  2016-12-23   male      Perth Scorchers  Adelaide Strikers   \n..       ...         ...    ...                  ...                ...   \n514   897753  2016-01-16   male        Sydney Sixers     Sydney Thunder   \n515   897757  2016-01-18   male  Melbourne Renegades  Adelaide Strikers   \n516   897759  2016-01-21   male    Adelaide Strikers     Sydney Thunder   \n517   897761  2016-01-22   male      Melbourne Stars    Perth Scorchers   \n518   897763  2016-01-24   male      Melbourne Stars     Sydney Thunder   \n\n                  winner player_of_match  \n0          Sydney Sixers    MC Henriques  \n1          Brisbane Heat     BB McCullum  \n2    Melbourne Renegades        AJ Finch  \n3      Hobart Hurricanes       DJM Short  \n4        Perth Scorchers       AJ Turner  \n..                   ...             ...  \n514       Sydney Thunder       SR Watson  \n515    Adelaide Strikers         TM Head  \n516       Sydney Thunder      UT Khawaja  \n517      Melbourne Stars    KP Pietersen  \n518       Sydney Thunder      UT Khawaja  \n\n[519 rows x 7 columns]",
      "text/html": "<div>\n<style scoped>\n    .dataframe tbody tr th:only-of-type {\n        vertical-align: middle;\n    }\n\n    .dataframe tbody tr th {\n        vertical-align: top;\n    }\n\n    .dataframe thead th {\n        text-align: right;\n    }\n</style>\n<table border=\"1\" class=\"dataframe\">\n  <thead>\n    <tr style=\"text-align: right;\">\n      <th></th>\n      <th>id</th>\n      <th>date</th>\n      <th>gender</th>\n      <th>home_team</th>\n      <th>away_team</th>\n      <th>winner</th>\n      <th>player_of_match</th>\n    </tr>\n  </thead>\n  <tbody>\n    <tr>\n      <th>0</th>\n      <td>1023581</td>\n      <td>2016-12-20</td>\n      <td>male</td>\n      <td>Sydney Thunder</td>\n      <td>Sydney Sixers</td>\n      <td>Sydney Sixers</td>\n      <td>MC Henriques</td>\n    </tr>\n    <tr>\n      <th>1</th>\n      <td>1023583</td>\n      <td>2016-12-21</td>\n      <td>male</td>\n      <td>Adelaide Strikers</td>\n      <td>Brisbane Heat</td>\n      <td>Brisbane Heat</td>\n      <td>BB McCullum</td>\n    </tr>\n    <tr>\n      <th>2</th>\n      <td>1023585</td>\n      <td>2016-12-22</td>\n      <td>male</td>\n      <td>Melbourne Renegades</td>\n      <td>Sydney Thunder</td>\n      <td>Melbourne Renegades</td>\n      <td>AJ Finch</td>\n    </tr>\n    <tr>\n      <th>3</th>\n      <td>1023587</td>\n      <td>2016-12-23</td>\n      <td>male</td>\n      <td>Sydney Sixers</td>\n      <td>Hobart Hurricanes</td>\n      <td>Hobart Hurricanes</td>\n      <td>DJM Short</td>\n    </tr>\n    <tr>\n      <th>4</th>\n      <td>1023589</td>\n      <td>2016-12-23</td>\n      <td>male</td>\n      <td>Perth Scorchers</td>\n      <td>Adelaide Strikers</td>\n      <td>Perth Scorchers</td>\n      <td>AJ Turner</td>\n    </tr>\n    <tr>\n      <th>...</th>\n      <td>...</td>\n      <td>...</td>\n      <td>...</td>\n      <td>...</td>\n      <td>...</td>\n      <td>...</td>\n      <td>...</td>\n    </tr>\n    <tr>\n      <th>514</th>\n      <td>897753</td>\n      <td>2016-01-16</td>\n      <td>male</td>\n      <td>Sydney Sixers</td>\n      <td>Sydney Thunder</td>\n      <td>Sydney Thunder</td>\n      <td>SR Watson</td>\n    </tr>\n    <tr>\n      <th>515</th>\n      <td>897757</td>\n      <td>2016-01-18</td>\n      <td>male</td>\n      <td>Melbourne Renegades</td>\n      <td>Adelaide Strikers</td>\n      <td>Adelaide Strikers</td>\n      <td>TM Head</td>\n    </tr>\n    <tr>\n      <th>516</th>\n      <td>897759</td>\n      <td>2016-01-21</td>\n      <td>male</td>\n      <td>Adelaide Strikers</td>\n      <td>Sydney Thunder</td>\n      <td>Sydney Thunder</td>\n      <td>UT Khawaja</td>\n    </tr>\n    <tr>\n      <th>517</th>\n      <td>897761</td>\n      <td>2016-01-22</td>\n      <td>male</td>\n      <td>Melbourne Stars</td>\n      <td>Perth Scorchers</td>\n      <td>Melbourne Stars</td>\n      <td>KP Pietersen</td>\n    </tr>\n    <tr>\n      <th>518</th>\n      <td>897763</td>\n      <td>2016-01-24</td>\n      <td>male</td>\n      <td>Melbourne Stars</td>\n      <td>Sydney Thunder</td>\n      <td>Sydney Thunder</td>\n      <td>UT Khawaja</td>\n    </tr>\n  </tbody>\n</table>\n<p>519 rows × 7 columns</p>\n</div>"
     },
     "execution_count": 4,
     "metadata": {},
     "output_type": "execute_result"
    }
   ],
   "source": [
    "game_set.game_df"
   ],
   "metadata": {
    "collapsed": false,
    "pycharm": {
     "name": "#%%\n"
    }
   }
  },
  {
   "cell_type": "code",
   "execution_count": 5,
   "outputs": [],
   "source": [
    "most_pom = game_set.game_df['player_of_match'].mode()"
   ],
   "metadata": {
    "collapsed": false,
    "pycharm": {
     "name": "#%%\n"
    }
   }
  },
  {
   "cell_type": "code",
   "execution_count": 6,
   "outputs": [
    {
     "data": {
      "text/plain": "0    CA Lynn\nName: player_of_match, dtype: object"
     },
     "execution_count": 6,
     "metadata": {},
     "output_type": "execute_result"
    }
   ],
   "source": [
    "most_pom"
   ],
   "metadata": {
    "collapsed": false,
    "pycharm": {
     "name": "#%%\n"
    }
   }
  },
  {
   "cell_type": "code",
   "execution_count": null,
   "outputs": [],
   "source": [],
   "metadata": {
    "collapsed": false,
    "pycharm": {
     "name": "#%%\n"
    }
   }
  }
 ],
 "metadata": {
  "kernelspec": {
   "display_name": "Python 3",
   "language": "python",
   "name": "python3"
  },
  "language_info": {
   "codemirror_mode": {
    "name": "ipython",
    "version": 2
   },
   "file_extension": ".py",
   "mimetype": "text/x-python",
   "name": "python",
   "nbconvert_exporter": "python",
   "pygments_lexer": "ipython2",
   "version": "2.7.6"
  }
 },
 "nbformat": 4,
 "nbformat_minor": 0
}