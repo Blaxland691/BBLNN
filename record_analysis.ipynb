{
 "cells": [
  {
   "cell_type": "code",
   "execution_count": 1,
   "metadata": {
    "collapsed": true
   },
   "outputs": [],
   "source": [
    "from game_set import GameSet"
   ]
  },
  {
   "cell_type": "code",
   "execution_count": 2,
   "outputs": [],
   "source": [
    "game_set = GameSet('bbl_json')"
   ],
   "metadata": {
    "collapsed": false
   }
  },
  {
   "cell_type": "code",
   "execution_count": 3,
   "outputs": [
    {
     "data": {
      "text/plain": "          id\n0    1269683\n1    1152569\n2    1114889\n3    1114866\n4    1195622\n..       ...\n514  1226828\n515   654055\n516  1195573\n517  1152511\n518   524928\n\n[519 rows x 1 columns]",
      "text/html": "<div>\n<style scoped>\n    .dataframe tbody tr th:only-of-type {\n        vertical-align: middle;\n    }\n\n    .dataframe tbody tr th {\n        vertical-align: top;\n    }\n\n    .dataframe thead th {\n        text-align: right;\n    }\n</style>\n<table border=\"1\" class=\"dataframe\">\n  <thead>\n    <tr style=\"text-align: right;\">\n      <th></th>\n      <th>id</th>\n    </tr>\n  </thead>\n  <tbody>\n    <tr>\n      <th>0</th>\n      <td>1269683</td>\n    </tr>\n    <tr>\n      <th>1</th>\n      <td>1152569</td>\n    </tr>\n    <tr>\n      <th>2</th>\n      <td>1114889</td>\n    </tr>\n    <tr>\n      <th>3</th>\n      <td>1114866</td>\n    </tr>\n    <tr>\n      <th>4</th>\n      <td>1195622</td>\n    </tr>\n    <tr>\n      <th>...</th>\n      <td>...</td>\n    </tr>\n    <tr>\n      <th>514</th>\n      <td>1226828</td>\n    </tr>\n    <tr>\n      <th>515</th>\n      <td>654055</td>\n    </tr>\n    <tr>\n      <th>516</th>\n      <td>1195573</td>\n    </tr>\n    <tr>\n      <th>517</th>\n      <td>1152511</td>\n    </tr>\n    <tr>\n      <th>518</th>\n      <td>524928</td>\n    </tr>\n  </tbody>\n</table>\n<p>519 rows × 1 columns</p>\n</div>"
     },
     "execution_count": 3,
     "metadata": {},
     "output_type": "execute_result"
    }
   ],
   "source": [
    "game_set.game_df"
   ],
   "metadata": {
    "collapsed": false
   }
  },
  {
   "cell_type": "code",
   "execution_count": null,
   "outputs": [],
   "source": [],
   "metadata": {
    "collapsed": false
   }
  },
  {
   "cell_type": "code",
   "execution_count": null,
   "outputs": [],
   "source": [],
   "metadata": {
    "collapsed": false
   }
  }
 ],
 "metadata": {
  "kernelspec": {
   "display_name": "Python 3",
   "language": "python",
   "name": "python3"
  },
  "language_info": {
   "codemirror_mode": {
    "name": "ipython",
    "version": 2
   },
   "file_extension": ".py",
   "mimetype": "text/x-python",
   "name": "python",
   "nbconvert_exporter": "python",
   "pygments_lexer": "ipython2",
   "version": "2.7.6"
  }
 },
 "nbformat": 4,
 "nbformat_minor": 0
}
